{
 "cells": [
  {
   "cell_type": "markdown",
   "metadata": {},
   "source": [
    "#  Linear Regression\n",
    "\n",
    "Linear Regression is a statistical technique that is used to find the linear relationship between a dependent and one or more independent variables. \n",
    "\n",
    "This technique is applicable for Supervised learning Regression problems where we try to predict a continuous variable."
   ]
  },
  {
   "cell_type": "markdown",
   "metadata": {},
   "source": [
    "## Modeling the linear relationship between TV ad spending and product sales\n",
    "\n",
    "In this example, we will build a Simple Linear Regression model to study the linear relationship between the TV ad spending and product sales for a breakfast cereal."
   ]
  },
  {
   "cell_type": "markdown",
   "metadata": {},
   "source": [
    "<image src=\"tv-ad.gif\"/>"
   ]
  },
  {
   "cell_type": "markdown",
   "metadata": {},
   "source": [
    "## Simple Linear Regression"
   ]
  },
  {
   "cell_type": "markdown",
   "metadata": {},
   "source": [
    "Simple Linear Regression is one of the simplest models in machine learning. It models the linear relationship between the independent and dependent variables.\n",
    "\n",
    "In this example, there is one independent or input variable that represents the TV ad spending data and is denoted by X. Similarly, there is one dependent or output variable that represents the product sales data and is denoted by y. \n",
    "\n",
    "We want to build a linear relationship between these variables. This linear relationship can be modeled by a mathematical equation of the form:"
   ]
  },
  {
   "cell_type": "markdown",
   "metadata": {},
   "source": [
    "$$ y = m(x) + b $$\n",
    "\n",
    "**where:** \n",
    "\n",
    "$ x $ is the dependent variable\n",
    "\n",
    "$ y $ is the independent variable\n",
    "\n",
    "$ b $ is the intercept\n",
    "\n",
    "$ m $ is slope"
   ]
  },
  {
   "cell_type": "markdown",
   "metadata": {},
   "source": [
    "### Step 1: Import the necessary packages"
   ]
  },
  {
   "cell_type": "code",
   "execution_count": null,
   "metadata": {},
   "outputs": [],
   "source": [
    "import numpy as np\n",
    "import pandas as pd\n",
    "import matplotlib.pyplot as plt\n",
    "\n",
    "from sklearn.model_selection import train_test_split\n",
    "from sklearn.linear_model import LinearRegression"
   ]
  },
  {
   "cell_type": "markdown",
   "metadata": {},
   "source": [
    "### Step 2: Analyze the dataset\n",
    "\n",
    "Import the dataset into the dataframe with the standard read_csv() function of the pandas library and assign it to the df variable. Then, conduct exploratory data analysis to get a feel for the data."
   ]
  },
  {
   "cell_type": "code",
   "execution_count": null,
   "metadata": {},
   "outputs": [],
   "source": [
    "df = pd.read_csv(\"advertisement.csv\")\n",
    "df.head()"
   ]
  },
  {
   "cell_type": "code",
   "execution_count": null,
   "metadata": {},
   "outputs": [],
   "source": [
    "df.info()"
   ]
  },
  {
   "cell_type": "code",
   "execution_count": null,
   "metadata": {},
   "outputs": [],
   "source": [
    "df.describe()"
   ]
  },
  {
   "cell_type": "markdown",
   "metadata": {},
   "source": [
    "#### Visualize the data"
   ]
  },
  {
   "cell_type": "code",
   "execution_count": null,
   "metadata": {},
   "outputs": [],
   "source": [
    "df.plot(x='TV',y='Sales',kind='scatter')"
   ]
  },
  {
   "cell_type": "markdown",
   "metadata": {},
   "source": [
    "### Step 4: Split the dataset into a training set and a testing set"
   ]
  },
  {
   "cell_type": "code",
   "execution_count": null,
   "metadata": {},
   "outputs": [],
   "source": [
    "X = df['TV'].values\n",
    "y = df['Sales'].values"
   ]
  },
  {
   "cell_type": "code",
   "execution_count": null,
   "metadata": {},
   "outputs": [],
   "source": [
    "# Reshape X from a one dimensional array into a two dimensional array\n",
    "X = X.reshape(-1,1)\n",
    "\n",
    "# Reshape X from a one dimensional array into a two dimensional array\n",
    "y = y.reshape(-1,1)"
   ]
  },
  {
   "cell_type": "code",
   "execution_count": null,
   "metadata": {},
   "outputs": [],
   "source": [
    "X_train,X_test,y_train,y_test = train_test_split(X, y, test_size=0.33, random_state=42)"
   ]
  },
  {
   "cell_type": "code",
   "execution_count": null,
   "metadata": {},
   "outputs": [],
   "source": [
    "print(X_train.shape)\n",
    "print(y_train.shape)\n",
    "print(X_test.shape)\n",
    "print(y_test.shape)"
   ]
  },
  {
   "cell_type": "markdown",
   "metadata": {},
   "source": [
    "### Step 5: Create the Model"
   ]
  },
  {
   "cell_type": "code",
   "execution_count": null,
   "metadata": {},
   "outputs": [],
   "source": [
    "# Create an instance the linear regression class \n",
    "lr_model = LinearRegression()\n",
    "\n",
    "# Train the model using training data sets\n",
    "lr_model.fit(X_train,y_train)\n",
    "\n",
    "# Predict on the test data\n",
    "y_pred = lr_model.predict(X_test)"
   ]
  },
  {
   "cell_type": "markdown",
   "metadata": {},
   "source": [
    "### Step 6: Get the slope and intercept"
   ]
  },
  {
   "cell_type": "code",
   "execution_count": null,
   "metadata": {},
   "outputs": [],
   "source": [
    "# Slope\n",
    "m = lr_model.coef_[0]\n",
    "m = m[0]\n",
    "\n",
    "# Intercept\n",
    "b = lr_model.intercept_[0]\n",
    "\n",
    "print(\"b = \", b)\n",
    "print(\"m = \", m)\n",
    "print(\"y = \", m, \"* x + \", b)"
   ]
  },
  {
   "cell_type": "markdown",
   "metadata": {},
   "source": [
    "### Step 7: Draw the Regression Line"
   ]
  },
  {
   "cell_type": "code",
   "execution_count": null,
   "metadata": {},
   "outputs": [],
   "source": [
    "plt.scatter(X, y, color = 'blue', label='Data Points')\n",
    "plt.plot(X_test, y_pred, color = 'red', linewidth=3, label = 'Regression Line')\n",
    "plt.title('Relationship between TV Ads and Product Sales')\n",
    "plt.xlabel('TV Ads')\n",
    "plt.ylabel('Sales')\n",
    "plt.legend(loc=4)\n",
    "plt.show()"
   ]
  },
  {
   "cell_type": "markdown",
   "metadata": {},
   "source": [
    "### Step 8: Loss Function\n",
    "\n",
    "- Compute the Sum of Squared Error"
   ]
  },
  {
   "cell_type": "code",
   "execution_count": null,
   "metadata": {},
   "outputs": [],
   "source": [
    "# Reshape y_test from a two dimensional array back to a one dimensional array\n",
    "y_test = y_test.reshape(-1)\n",
    "\n",
    "# Reshape y_pred from a two dimensional array back to a one dimensional array\n",
    "y_pred = y_pred.reshape(-1)\n",
    "\n",
    "df1 = pd.DataFrame({'Actual_Sales': y_test, 'Predicted_Sales':y_pred})"
   ]
  },
  {
   "cell_type": "code",
   "execution_count": null,
   "metadata": {},
   "outputs": [],
   "source": [
    "df1.head()"
   ]
  },
  {
   "cell_type": "code",
   "execution_count": null,
   "metadata": {},
   "outputs": [],
   "source": [
    "sum_of_squared_errors = str(np.sum(np.square(df1['Actual_Sales'] - df1['Predicted_Sales'])))\n",
    "\n",
    "print('residual sum of squares is : ', sum_of_squared_errors)"
   ]
  },
  {
   "cell_type": "markdown",
   "metadata": {},
   "source": [
    "### Compute $R^2$"
   ]
  },
  {
   "cell_type": "code",
   "execution_count": null,
   "metadata": {},
   "outputs": [],
   "source": [
    "from sklearn.metrics import r2_score\n",
    "r2 = r2_score(y_test, y_pred)\n",
    "print(r2)"
   ]
  }
 ],
 "metadata": {
  "kernelspec": {
   "display_name": "base",
   "language": "python",
   "name": "python3"
  },
  "language_info": {
   "codemirror_mode": {
    "name": "ipython",
    "version": 3
   },
   "file_extension": ".py",
   "mimetype": "text/x-python",
   "name": "python",
   "nbconvert_exporter": "python",
   "pygments_lexer": "ipython3",
   "version": "3.11.7"
  },
  "orig_nbformat": 4
 },
 "nbformat": 4,
 "nbformat_minor": 2
}
