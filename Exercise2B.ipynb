{
  "cells": [
    {
      "cell_type": "markdown",
      "metadata": {
        "id": "view-in-github",
        "colab_type": "text"
      },
      "source": [
        "<a href=\"https://colab.research.google.com/github/OG-CZ/CCMACLRL-EXERCISES-COM231/blob/master/Exercise2B.ipynb\" target=\"_parent\"><img src=\"https://colab.research.google.com/assets/colab-badge.svg\" alt=\"Open In Colab\"/></a>"
      ]
    },
    {
      "cell_type": "markdown",
      "source": [
        "# Exercise 2 B"
      ],
      "metadata": {
        "id": "DzE0a2wse5_X"
      }
    },
    {
      "cell_type": "code",
      "execution_count": 1,
      "metadata": {
        "id": "1jGZ4ic7DRL-"
      },
      "outputs": [],
      "source": [
        "import pandas as pd\n",
        "import matplotlib.pyplot as plt\n",
        "import seaborn as sns\n",
        "from sklearn.linear_model import LinearRegression\n",
        "from scipy.stats import pearsonr\n",
        "import statsmodels.api as sm"
      ]
    },
    {
      "cell_type": "code",
      "execution_count": 2,
      "metadata": {
        "id": "ZWwABN_vDXoV"
      },
      "outputs": [],
      "source": [
        "df = pd.read_excel('traveldata.xlsx')"
      ]
    },
    {
      "cell_type": "code",
      "execution_count": 3,
      "metadata": {
        "id": "6uh5EWIaDaum",
        "outputId": "01b8f02f-9e21-4495-bd88-5bcd77602834",
        "colab": {
          "base_uri": "https://localhost:8080/",
          "height": 363
        }
      },
      "outputs": [
        {
          "output_type": "execute_result",
          "data": {
            "text/plain": [
              "   Miles Traveled  Number of Deliveries  Gas Price  Travel Time\n",
              "0              89                     4       3.84          7.0\n",
              "1              66                     1       3.19          5.4\n",
              "2              78                     3       3.78          6.6\n",
              "3             111                     6       3.89          7.4\n",
              "4              44                     1       3.57          4.8\n",
              "5              77                     3       3.57          6.4\n",
              "6              80                     3       3.03          7.0\n",
              "7              66                     2       3.51          5.6\n",
              "8             109                     5       3.54          7.3\n",
              "9              76                     3       3.25          6.4"
            ],
            "text/html": [
              "\n",
              "  <div id=\"df-459b156c-2a7e-4ea8-912d-3d6cf8f37e2b\" class=\"colab-df-container\">\n",
              "    <div>\n",
              "<style scoped>\n",
              "    .dataframe tbody tr th:only-of-type {\n",
              "        vertical-align: middle;\n",
              "    }\n",
              "\n",
              "    .dataframe tbody tr th {\n",
              "        vertical-align: top;\n",
              "    }\n",
              "\n",
              "    .dataframe thead th {\n",
              "        text-align: right;\n",
              "    }\n",
              "</style>\n",
              "<table border=\"1\" class=\"dataframe\">\n",
              "  <thead>\n",
              "    <tr style=\"text-align: right;\">\n",
              "      <th></th>\n",
              "      <th>Miles Traveled</th>\n",
              "      <th>Number of Deliveries</th>\n",
              "      <th>Gas Price</th>\n",
              "      <th>Travel Time</th>\n",
              "    </tr>\n",
              "  </thead>\n",
              "  <tbody>\n",
              "    <tr>\n",
              "      <th>0</th>\n",
              "      <td>89</td>\n",
              "      <td>4</td>\n",
              "      <td>3.84</td>\n",
              "      <td>7.0</td>\n",
              "    </tr>\n",
              "    <tr>\n",
              "      <th>1</th>\n",
              "      <td>66</td>\n",
              "      <td>1</td>\n",
              "      <td>3.19</td>\n",
              "      <td>5.4</td>\n",
              "    </tr>\n",
              "    <tr>\n",
              "      <th>2</th>\n",
              "      <td>78</td>\n",
              "      <td>3</td>\n",
              "      <td>3.78</td>\n",
              "      <td>6.6</td>\n",
              "    </tr>\n",
              "    <tr>\n",
              "      <th>3</th>\n",
              "      <td>111</td>\n",
              "      <td>6</td>\n",
              "      <td>3.89</td>\n",
              "      <td>7.4</td>\n",
              "    </tr>\n",
              "    <tr>\n",
              "      <th>4</th>\n",
              "      <td>44</td>\n",
              "      <td>1</td>\n",
              "      <td>3.57</td>\n",
              "      <td>4.8</td>\n",
              "    </tr>\n",
              "    <tr>\n",
              "      <th>5</th>\n",
              "      <td>77</td>\n",
              "      <td>3</td>\n",
              "      <td>3.57</td>\n",
              "      <td>6.4</td>\n",
              "    </tr>\n",
              "    <tr>\n",
              "      <th>6</th>\n",
              "      <td>80</td>\n",
              "      <td>3</td>\n",
              "      <td>3.03</td>\n",
              "      <td>7.0</td>\n",
              "    </tr>\n",
              "    <tr>\n",
              "      <th>7</th>\n",
              "      <td>66</td>\n",
              "      <td>2</td>\n",
              "      <td>3.51</td>\n",
              "      <td>5.6</td>\n",
              "    </tr>\n",
              "    <tr>\n",
              "      <th>8</th>\n",
              "      <td>109</td>\n",
              "      <td>5</td>\n",
              "      <td>3.54</td>\n",
              "      <td>7.3</td>\n",
              "    </tr>\n",
              "    <tr>\n",
              "      <th>9</th>\n",
              "      <td>76</td>\n",
              "      <td>3</td>\n",
              "      <td>3.25</td>\n",
              "      <td>6.4</td>\n",
              "    </tr>\n",
              "  </tbody>\n",
              "</table>\n",
              "</div>\n",
              "    <div class=\"colab-df-buttons\">\n",
              "\n",
              "  <div class=\"colab-df-container\">\n",
              "    <button class=\"colab-df-convert\" onclick=\"convertToInteractive('df-459b156c-2a7e-4ea8-912d-3d6cf8f37e2b')\"\n",
              "            title=\"Convert this dataframe to an interactive table.\"\n",
              "            style=\"display:none;\">\n",
              "\n",
              "  <svg xmlns=\"http://www.w3.org/2000/svg\" height=\"24px\" viewBox=\"0 -960 960 960\">\n",
              "    <path d=\"M120-120v-720h720v720H120Zm60-500h600v-160H180v160Zm220 220h160v-160H400v160Zm0 220h160v-160H400v160ZM180-400h160v-160H180v160Zm440 0h160v-160H620v160ZM180-180h160v-160H180v160Zm440 0h160v-160H620v160Z\"/>\n",
              "  </svg>\n",
              "    </button>\n",
              "\n",
              "  <style>\n",
              "    .colab-df-container {\n",
              "      display:flex;\n",
              "      gap: 12px;\n",
              "    }\n",
              "\n",
              "    .colab-df-convert {\n",
              "      background-color: #E8F0FE;\n",
              "      border: none;\n",
              "      border-radius: 50%;\n",
              "      cursor: pointer;\n",
              "      display: none;\n",
              "      fill: #1967D2;\n",
              "      height: 32px;\n",
              "      padding: 0 0 0 0;\n",
              "      width: 32px;\n",
              "    }\n",
              "\n",
              "    .colab-df-convert:hover {\n",
              "      background-color: #E2EBFA;\n",
              "      box-shadow: 0px 1px 2px rgba(60, 64, 67, 0.3), 0px 1px 3px 1px rgba(60, 64, 67, 0.15);\n",
              "      fill: #174EA6;\n",
              "    }\n",
              "\n",
              "    .colab-df-buttons div {\n",
              "      margin-bottom: 4px;\n",
              "    }\n",
              "\n",
              "    [theme=dark] .colab-df-convert {\n",
              "      background-color: #3B4455;\n",
              "      fill: #D2E3FC;\n",
              "    }\n",
              "\n",
              "    [theme=dark] .colab-df-convert:hover {\n",
              "      background-color: #434B5C;\n",
              "      box-shadow: 0px 1px 3px 1px rgba(0, 0, 0, 0.15);\n",
              "      filter: drop-shadow(0px 1px 2px rgba(0, 0, 0, 0.3));\n",
              "      fill: #FFFFFF;\n",
              "    }\n",
              "  </style>\n",
              "\n",
              "    <script>\n",
              "      const buttonEl =\n",
              "        document.querySelector('#df-459b156c-2a7e-4ea8-912d-3d6cf8f37e2b button.colab-df-convert');\n",
              "      buttonEl.style.display =\n",
              "        google.colab.kernel.accessAllowed ? 'block' : 'none';\n",
              "\n",
              "      async function convertToInteractive(key) {\n",
              "        const element = document.querySelector('#df-459b156c-2a7e-4ea8-912d-3d6cf8f37e2b');\n",
              "        const dataTable =\n",
              "          await google.colab.kernel.invokeFunction('convertToInteractive',\n",
              "                                                    [key], {});\n",
              "        if (!dataTable) return;\n",
              "\n",
              "        const docLinkHtml = 'Like what you see? Visit the ' +\n",
              "          '<a target=\"_blank\" href=https://colab.research.google.com/notebooks/data_table.ipynb>data table notebook</a>'\n",
              "          + ' to learn more about interactive tables.';\n",
              "        element.innerHTML = '';\n",
              "        dataTable['output_type'] = 'display_data';\n",
              "        await google.colab.output.renderOutput(dataTable, element);\n",
              "        const docLink = document.createElement('div');\n",
              "        docLink.innerHTML = docLinkHtml;\n",
              "        element.appendChild(docLink);\n",
              "      }\n",
              "    </script>\n",
              "  </div>\n",
              "\n",
              "\n",
              "    <div id=\"df-ed4c5cbe-f1d1-48e1-8d16-07aab4c33d2f\">\n",
              "      <button class=\"colab-df-quickchart\" onclick=\"quickchart('df-ed4c5cbe-f1d1-48e1-8d16-07aab4c33d2f')\"\n",
              "                title=\"Suggest charts\"\n",
              "                style=\"display:none;\">\n",
              "\n",
              "<svg xmlns=\"http://www.w3.org/2000/svg\" height=\"24px\"viewBox=\"0 0 24 24\"\n",
              "     width=\"24px\">\n",
              "    <g>\n",
              "        <path d=\"M19 3H5c-1.1 0-2 .9-2 2v14c0 1.1.9 2 2 2h14c1.1 0 2-.9 2-2V5c0-1.1-.9-2-2-2zM9 17H7v-7h2v7zm4 0h-2V7h2v10zm4 0h-2v-4h2v4z\"/>\n",
              "    </g>\n",
              "</svg>\n",
              "      </button>\n",
              "\n",
              "<style>\n",
              "  .colab-df-quickchart {\n",
              "      --bg-color: #E8F0FE;\n",
              "      --fill-color: #1967D2;\n",
              "      --hover-bg-color: #E2EBFA;\n",
              "      --hover-fill-color: #174EA6;\n",
              "      --disabled-fill-color: #AAA;\n",
              "      --disabled-bg-color: #DDD;\n",
              "  }\n",
              "\n",
              "  [theme=dark] .colab-df-quickchart {\n",
              "      --bg-color: #3B4455;\n",
              "      --fill-color: #D2E3FC;\n",
              "      --hover-bg-color: #434B5C;\n",
              "      --hover-fill-color: #FFFFFF;\n",
              "      --disabled-bg-color: #3B4455;\n",
              "      --disabled-fill-color: #666;\n",
              "  }\n",
              "\n",
              "  .colab-df-quickchart {\n",
              "    background-color: var(--bg-color);\n",
              "    border: none;\n",
              "    border-radius: 50%;\n",
              "    cursor: pointer;\n",
              "    display: none;\n",
              "    fill: var(--fill-color);\n",
              "    height: 32px;\n",
              "    padding: 0;\n",
              "    width: 32px;\n",
              "  }\n",
              "\n",
              "  .colab-df-quickchart:hover {\n",
              "    background-color: var(--hover-bg-color);\n",
              "    box-shadow: 0 1px 2px rgba(60, 64, 67, 0.3), 0 1px 3px 1px rgba(60, 64, 67, 0.15);\n",
              "    fill: var(--button-hover-fill-color);\n",
              "  }\n",
              "\n",
              "  .colab-df-quickchart-complete:disabled,\n",
              "  .colab-df-quickchart-complete:disabled:hover {\n",
              "    background-color: var(--disabled-bg-color);\n",
              "    fill: var(--disabled-fill-color);\n",
              "    box-shadow: none;\n",
              "  }\n",
              "\n",
              "  .colab-df-spinner {\n",
              "    border: 2px solid var(--fill-color);\n",
              "    border-color: transparent;\n",
              "    border-bottom-color: var(--fill-color);\n",
              "    animation:\n",
              "      spin 1s steps(1) infinite;\n",
              "  }\n",
              "\n",
              "  @keyframes spin {\n",
              "    0% {\n",
              "      border-color: transparent;\n",
              "      border-bottom-color: var(--fill-color);\n",
              "      border-left-color: var(--fill-color);\n",
              "    }\n",
              "    20% {\n",
              "      border-color: transparent;\n",
              "      border-left-color: var(--fill-color);\n",
              "      border-top-color: var(--fill-color);\n",
              "    }\n",
              "    30% {\n",
              "      border-color: transparent;\n",
              "      border-left-color: var(--fill-color);\n",
              "      border-top-color: var(--fill-color);\n",
              "      border-right-color: var(--fill-color);\n",
              "    }\n",
              "    40% {\n",
              "      border-color: transparent;\n",
              "      border-right-color: var(--fill-color);\n",
              "      border-top-color: var(--fill-color);\n",
              "    }\n",
              "    60% {\n",
              "      border-color: transparent;\n",
              "      border-right-color: var(--fill-color);\n",
              "    }\n",
              "    80% {\n",
              "      border-color: transparent;\n",
              "      border-right-color: var(--fill-color);\n",
              "      border-bottom-color: var(--fill-color);\n",
              "    }\n",
              "    90% {\n",
              "      border-color: transparent;\n",
              "      border-bottom-color: var(--fill-color);\n",
              "    }\n",
              "  }\n",
              "</style>\n",
              "\n",
              "      <script>\n",
              "        async function quickchart(key) {\n",
              "          const quickchartButtonEl =\n",
              "            document.querySelector('#' + key + ' button');\n",
              "          quickchartButtonEl.disabled = true;  // To prevent multiple clicks.\n",
              "          quickchartButtonEl.classList.add('colab-df-spinner');\n",
              "          try {\n",
              "            const charts = await google.colab.kernel.invokeFunction(\n",
              "                'suggestCharts', [key], {});\n",
              "          } catch (error) {\n",
              "            console.error('Error during call to suggestCharts:', error);\n",
              "          }\n",
              "          quickchartButtonEl.classList.remove('colab-df-spinner');\n",
              "          quickchartButtonEl.classList.add('colab-df-quickchart-complete');\n",
              "        }\n",
              "        (() => {\n",
              "          let quickchartButtonEl =\n",
              "            document.querySelector('#df-ed4c5cbe-f1d1-48e1-8d16-07aab4c33d2f button');\n",
              "          quickchartButtonEl.style.display =\n",
              "            google.colab.kernel.accessAllowed ? 'block' : 'none';\n",
              "        })();\n",
              "      </script>\n",
              "    </div>\n",
              "\n",
              "  <div id=\"id_8ec720c5-4b1c-438c-b6e6-672241b12627\">\n",
              "    <style>\n",
              "      .colab-df-generate {\n",
              "        background-color: #E8F0FE;\n",
              "        border: none;\n",
              "        border-radius: 50%;\n",
              "        cursor: pointer;\n",
              "        display: none;\n",
              "        fill: #1967D2;\n",
              "        height: 32px;\n",
              "        padding: 0 0 0 0;\n",
              "        width: 32px;\n",
              "      }\n",
              "\n",
              "      .colab-df-generate:hover {\n",
              "        background-color: #E2EBFA;\n",
              "        box-shadow: 0px 1px 2px rgba(60, 64, 67, 0.3), 0px 1px 3px 1px rgba(60, 64, 67, 0.15);\n",
              "        fill: #174EA6;\n",
              "      }\n",
              "\n",
              "      [theme=dark] .colab-df-generate {\n",
              "        background-color: #3B4455;\n",
              "        fill: #D2E3FC;\n",
              "      }\n",
              "\n",
              "      [theme=dark] .colab-df-generate:hover {\n",
              "        background-color: #434B5C;\n",
              "        box-shadow: 0px 1px 3px 1px rgba(0, 0, 0, 0.15);\n",
              "        filter: drop-shadow(0px 1px 2px rgba(0, 0, 0, 0.3));\n",
              "        fill: #FFFFFF;\n",
              "      }\n",
              "    </style>\n",
              "    <button class=\"colab-df-generate\" onclick=\"generateWithVariable('df')\"\n",
              "            title=\"Generate code using this dataframe.\"\n",
              "            style=\"display:none;\">\n",
              "\n",
              "  <svg xmlns=\"http://www.w3.org/2000/svg\" height=\"24px\"viewBox=\"0 0 24 24\"\n",
              "       width=\"24px\">\n",
              "    <path d=\"M7,19H8.4L18.45,9,17,7.55,7,17.6ZM5,21V16.75L18.45,3.32a2,2,0,0,1,2.83,0l1.4,1.43a1.91,1.91,0,0,1,.58,1.4,1.91,1.91,0,0,1-.58,1.4L9.25,21ZM18.45,9,17,7.55Zm-12,3A5.31,5.31,0,0,0,4.9,8.1,5.31,5.31,0,0,0,1,6.5,5.31,5.31,0,0,0,4.9,4.9,5.31,5.31,0,0,0,6.5,1,5.31,5.31,0,0,0,8.1,4.9,5.31,5.31,0,0,0,12,6.5,5.46,5.46,0,0,0,6.5,12Z\"/>\n",
              "  </svg>\n",
              "    </button>\n",
              "    <script>\n",
              "      (() => {\n",
              "      const buttonEl =\n",
              "        document.querySelector('#id_8ec720c5-4b1c-438c-b6e6-672241b12627 button.colab-df-generate');\n",
              "      buttonEl.style.display =\n",
              "        google.colab.kernel.accessAllowed ? 'block' : 'none';\n",
              "\n",
              "      buttonEl.onclick = () => {\n",
              "        google.colab.notebook.generateWithVariable('df');\n",
              "      }\n",
              "      })();\n",
              "    </script>\n",
              "  </div>\n",
              "\n",
              "    </div>\n",
              "  </div>\n"
            ],
            "application/vnd.google.colaboratory.intrinsic+json": {
              "type": "dataframe",
              "variable_name": "df",
              "summary": "{\n  \"name\": \"df\",\n  \"rows\": 10,\n  \"fields\": [\n    {\n      \"column\": \"Miles Traveled\",\n      \"properties\": {\n        \"dtype\": \"number\",\n        \"std\": 19,\n        \"min\": 44,\n        \"max\": 111,\n        \"num_unique_values\": 9,\n        \"samples\": [\n          109,\n          66,\n          77\n        ],\n        \"semantic_type\": \"\",\n        \"description\": \"\"\n      }\n    },\n    {\n      \"column\": \"Number of Deliveries\",\n      \"properties\": {\n        \"dtype\": \"number\",\n        \"std\": 1,\n        \"min\": 1,\n        \"max\": 6,\n        \"num_unique_values\": 6,\n        \"samples\": [\n          4,\n          1,\n          5\n        ],\n        \"semantic_type\": \"\",\n        \"description\": \"\"\n      }\n    },\n    {\n      \"column\": \"Gas Price\",\n      \"properties\": {\n        \"dtype\": \"number\",\n        \"std\": 0.2856201829158592,\n        \"min\": 3.03,\n        \"max\": 3.89,\n        \"num_unique_values\": 9,\n        \"samples\": [\n          3.54,\n          3.19,\n          3.03\n        ],\n        \"semantic_type\": \"\",\n        \"description\": \"\"\n      }\n    },\n    {\n      \"column\": \"Travel Time\",\n      \"properties\": {\n        \"dtype\": \"number\",\n        \"std\": 0.8672433978480961,\n        \"min\": 4.8,\n        \"max\": 7.4,\n        \"num_unique_values\": 8,\n        \"samples\": [\n          5.4,\n          6.4,\n          7.0\n        ],\n        \"semantic_type\": \"\",\n        \"description\": \"\"\n      }\n    }\n  ]\n}"
            }
          },
          "metadata": {},
          "execution_count": 3
        }
      ],
      "source": [
        "df"
      ]
    },
    {
      "cell_type": "markdown",
      "metadata": {
        "id": "0e7F0WCne-8o"
      },
      "source": [
        "## A. Correlation"
      ]
    },
    {
      "cell_type": "markdown",
      "metadata": {
        "id": "U08ybiFgMbQ7"
      },
      "source": [
        "### Check the relationships between each independent variable and the dependent variable using scatterplots and correlations."
      ]
    },
    {
      "cell_type": "markdown",
      "source": [
        "1. Create scatter plot between miles traveled and travel time"
      ],
      "metadata": {
        "id": "wRYSx_gUbb3N"
      }
    },
    {
      "cell_type": "code",
      "execution_count": 4,
      "metadata": {
        "id": "h7_ZHYhYDuSe",
        "outputId": "f9d6c66c-d94d-478e-a191-532368e6f73c",
        "colab": {
          "base_uri": "https://localhost:8080/",
          "height": 451
        }
      },
      "outputs": [
        {
          "output_type": "display_data",
          "data": {
            "text/plain": [
              "<Figure size 640x480 with 1 Axes>"
            ],
            "image/png": "[encoded data removed]"
          },
          "metadata": {}
        }
      ],
      "source": [
        "# put your answer here\n",
        "plt.scatter(df['Miles Traveled'], df[['Travel Time']])\n",
        "\n",
        "plt.xlabel(\"Miles Traveled\")\n",
        "plt.ylabel(\"Travel Time\")\n",
        "plt.show()"
      ]
    },
    {
      "cell_type": "markdown",
      "source": [
        "2. Create scatter plot between number of deliveries and travel time"
      ],
      "metadata": {
        "id": "VNOMGC4tblzn"
      }
    },
    {
      "cell_type": "code",
      "execution_count": 6,
      "metadata": {
        "id": "4HE-5zP9EFx0",
        "outputId": "fad70831-e2ba-497c-9c97-5a911cd04e2c",
        "colab": {
          "base_uri": "https://localhost:8080/",
          "height": 451
        }
      },
      "outputs": [
        {
          "output_type": "display_data",
          "data": {
            "text/plain": [
              "<Figure size 640x480 with 1 Axes>"
            ],
            "image/png": "[encoded data removed]"
          },
          "metadata": {}
        }
      ],
      "source": [
        "# put your answer here\n",
        "plt.scatter(df['Number of Deliveries'], df['Travel Time'])\n",
        "\n",
        "plt.xlabel(\"Miles Traveled\")\n",
        "plt.ylabel(\"Travel Time\")\n",
        "plt.show()"
      ]
    },
    {
      "cell_type": "markdown",
      "source": [
        "3. Create scatter plot between Gas Price and Travel time"
      ],
      "metadata": {
        "id": "MtjV8Zl5bquY"
      }
    },
    {
      "cell_type": "code",
      "execution_count": null,
      "metadata": {
        "id": "kWtQ4QKcEeVU"
      },
      "outputs": [],
      "source": [
        "# put your answer here\n",
        "plt.scatter(df['Number of Deliveries'], df['Travel Time'])\n",
        "\n",
        "plt.ylabel"
      ]
    },
    {
      "cell_type": "markdown",
      "source": [
        "4. Create a pairplot"
      ],
      "metadata": {
        "id": "Y-5Oe1aTb1ML"
      }
    },
    {
      "cell_type": "code",
      "execution_count": null,
      "metadata": {
        "id": "8eJqX_RXTFCA"
      },
      "outputs": [],
      "source": [
        "# put your answer here"
      ]
    },
    {
      "cell_type": "markdown",
      "source": [
        "5. Calculate r-squared and p-value between Miles Traveled and Travel Time"
      ],
      "metadata": {
        "id": "N2Cwy4EZb6CY"
      }
    },
    {
      "cell_type": "code",
      "execution_count": null,
      "metadata": {
        "id": "z85FNuL3XykJ"
      },
      "outputs": [],
      "source": [
        "# put your answer here"
      ]
    },
    {
      "cell_type": "markdown",
      "source": [
        "6. Calculate r-squared and p-value between Number of Deliveries and Travel Time"
      ],
      "metadata": {
        "id": "V0tmekGtcEBS"
      }
    },
    {
      "cell_type": "code",
      "execution_count": null,
      "metadata": {
        "id": "V5GzGetxZyJj"
      },
      "outputs": [],
      "source": [
        "# put your answer here"
      ]
    },
    {
      "cell_type": "markdown",
      "source": [
        "7. Calculate r-squared and p-value between Gas Price and Travel Time"
      ],
      "metadata": {
        "id": "zt28PWuxcPNm"
      }
    },
    {
      "cell_type": "code",
      "execution_count": null,
      "metadata": {
        "id": "i4XIek0XaF0H"
      },
      "outputs": [],
      "source": [
        "# put your answer here"
      ]
    },
    {
      "cell_type": "markdown",
      "metadata": {
        "id": "m0LFj6GwMmmT"
      },
      "source": [
        "### Check the relationships among the independent variables using scatterplots and correlations."
      ]
    },
    {
      "cell_type": "markdown",
      "source": [
        "8. Create scatter plot between Miles Traveled and Number of Deliveries."
      ],
      "metadata": {
        "id": "KzhtMwk9cgUc"
      }
    },
    {
      "cell_type": "code",
      "execution_count": null,
      "metadata": {
        "id": "fkCUT89bMsOo"
      },
      "outputs": [],
      "source": [
        "# put your answer here"
      ]
    },
    {
      "cell_type": "markdown",
      "source": [
        "9. Create scatter plot between Miles traveled and Gas Price"
      ],
      "metadata": {
        "id": "9Vt6fAWHcpNs"
      }
    },
    {
      "cell_type": "code",
      "execution_count": null,
      "metadata": {
        "id": "FkwyhaaxMwOE"
      },
      "outputs": [],
      "source": [
        "# put your answer here"
      ]
    },
    {
      "cell_type": "markdown",
      "source": [
        "10. Create scatter plot between Number of Deliveries and Gas Price"
      ],
      "metadata": {
        "id": "MLIy3oRecvZi"
      }
    },
    {
      "cell_type": "code",
      "execution_count": null,
      "metadata": {
        "id": "e0rICg_lM3c3"
      },
      "outputs": [],
      "source": [
        "# put your answer here"
      ]
    },
    {
      "cell_type": "markdown",
      "source": [
        "11. Calculate r-squared and p-value between Miles Traveled and Number of Deliveries"
      ],
      "metadata": {
        "id": "SQsY1LuLc7hj"
      }
    },
    {
      "cell_type": "code",
      "execution_count": null,
      "metadata": {
        "id": "Gg16fgdqbPgf"
      },
      "outputs": [],
      "source": [
        "# put your answer here"
      ]
    },
    {
      "cell_type": "markdown",
      "source": [
        "12. Calculate r-squared and p-value between Miles Traveled and Gas Price"
      ],
      "metadata": {
        "id": "gsHXLDy8dEd8"
      }
    },
    {
      "cell_type": "code",
      "execution_count": null,
      "metadata": {
        "id": "1RLWTs82bb3t"
      },
      "outputs": [],
      "source": [
        "# put your answer here"
      ]
    },
    {
      "cell_type": "markdown",
      "source": [
        "13. Calculate r-squared and p-value between Number of Deliveries and Gas Price"
      ],
      "metadata": {
        "id": "B9_ehI_TdGjv"
      }
    },
    {
      "cell_type": "code",
      "execution_count": null,
      "metadata": {
        "id": "schBTh7hbmmw"
      },
      "outputs": [],
      "source": [
        "# put your answer here"
      ]
    },
    {
      "cell_type": "markdown",
      "metadata": {
        "id": "7vtm7gQFc8Am"
      },
      "source": [
        "### Correlation Summary"
      ]
    },
    {
      "cell_type": "markdown",
      "source": [
        "14. Create the correlation summary"
      ],
      "metadata": {
        "id": "9ZkVzcUndOjU"
      }
    },
    {
      "cell_type": "code",
      "execution_count": null,
      "metadata": {
        "id": "ti0mQdimO_S5"
      },
      "outputs": [],
      "source": [
        "# put your answer here"
      ]
    },
    {
      "cell_type": "markdown",
      "source": [
        "15. Create a correlation matrix"
      ],
      "metadata": {
        "id": "OCcEP5K6dRib"
      }
    },
    {
      "cell_type": "code",
      "execution_count": null,
      "metadata": {
        "id": "L-DI2aktPQSS"
      },
      "outputs": [],
      "source": [
        "# put your answer here"
      ]
    },
    {
      "cell_type": "markdown",
      "metadata": {
        "id": "yYiArptLfGIV"
      },
      "source": [
        "## Building Different Regression Models"
      ]
    },
    {
      "cell_type": "markdown",
      "metadata": {
        "id": "NJ4wex8RjsK2"
      },
      "source": [
        "Find the best regression model"
      ]
    },
    {
      "cell_type": "markdown",
      "source": [
        "16. Set independent and dependent variables"
      ],
      "metadata": {
        "id": "nl_sTh3Hd74j"
      }
    },
    {
      "cell_type": "code",
      "execution_count": null,
      "metadata": {
        "id": "hQWfifH-fpKT"
      },
      "outputs": [],
      "source": [
        "# put your answer here"
      ]
    },
    {
      "cell_type": "markdown",
      "source": [
        "17. Build and train the model"
      ],
      "metadata": {
        "id": "xErHUNUCeEy5"
      }
    },
    {
      "cell_type": "code",
      "execution_count": null,
      "metadata": {
        "id": "8Z5ntKuxlYRY"
      },
      "outputs": [],
      "source": [
        "# put your answer here"
      ]
    },
    {
      "cell_type": "markdown",
      "source": [
        "18. Display the statistical summary"
      ],
      "metadata": {
        "id": "WHoGr0cIeLtw"
      }
    },
    {
      "cell_type": "code",
      "execution_count": null,
      "metadata": {
        "id": "EfMmKYwghZCl"
      },
      "outputs": [],
      "source": [
        "# put your answer here"
      ]
    },
    {
      "cell_type": "code",
      "source": [
        "19. Display the r-squared"
      ],
      "metadata": {
        "id": "lwZYINkSeQ-T"
      },
      "execution_count": null,
      "outputs": []
    },
    {
      "cell_type": "code",
      "execution_count": null,
      "metadata": {
        "id": "sZ8sTmV8hv3P"
      },
      "outputs": [],
      "source": [
        "# put your answer here"
      ]
    }
  ],
  "metadata": {
    "colab": {
      "provenance": [],
      "include_colab_link": true
    },
    "kernelspec": {
      "display_name": "Python 3",
      "name": "python3"
    },
    "language_info": {
      "name": "python"
    }
  },
  "nbformat": 4,
  "nbformat_minor": 0
}